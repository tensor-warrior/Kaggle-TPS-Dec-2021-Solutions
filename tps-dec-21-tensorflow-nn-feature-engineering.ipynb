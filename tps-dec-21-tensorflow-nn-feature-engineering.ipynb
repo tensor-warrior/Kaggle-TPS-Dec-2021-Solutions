{
 "cells": [
  {
   "cell_type": "markdown",
   "id": "580b0310",
   "metadata": {
    "papermill": {
     "duration": 0.020844,
     "end_time": "2021-12-06T16:15:37.856810",
     "exception": false,
     "start_time": "2021-12-06T16:15:37.835966",
     "status": "completed"
    },
    "tags": []
   },
   "source": [
    "**Version 2**:\n",
    "1. Fixed ranges of Aspect and Hillshade columns\n",
    "2. Used RobustScaler instead of MinMaxScaler\n",
    "\n",
    "**Version 3**:\n",
    "1. Used 20 folds rather than 10 :p\n",
    "2. Used soft voting instead of hard voting"
   ]
  },
  {
   "cell_type": "markdown",
   "id": "926687bd",
   "metadata": {
    "papermill": {
     "duration": 0.024139,
     "end_time": "2021-12-06T16:15:37.900550",
     "exception": false,
     "start_time": "2021-12-06T16:15:37.876411",
     "status": "completed"
    },
    "tags": []
   },
   "source": [
    "Please consider **UPVOTING** If you like this notebook :)"
   ]
  },
  {
   "cell_type": "markdown",
   "id": "96d73bfc",
   "metadata": {
    "_cell_guid": "b1076dfc-b9ad-4769-8c92-a6c4dae69d19",
    "_uuid": "8f2839f25d086af736a60e9eeb907d3b93b6e0e5",
    "papermill": {
     "duration": 0.018541,
     "end_time": "2021-12-06T16:15:37.937864",
     "exception": false,
     "start_time": "2021-12-06T16:15:37.919323",
     "status": "completed"
    },
    "tags": []
   },
   "source": [
    " # Part 1: Reading data and preprocessing"
   ]
  },
  {
   "cell_type": "code",
   "execution_count": 1,
   "id": "7f721d80",
   "metadata": {
    "execution": {
     "iopub.execute_input": "2021-12-06T16:15:37.987027Z",
     "iopub.status.busy": "2021-12-06T16:15:37.986263Z",
     "iopub.status.idle": "2021-12-06T16:15:58.228840Z",
     "shell.execute_reply": "2021-12-06T16:15:58.228024Z"
    },
    "papermill": {
     "duration": 20.272554,
     "end_time": "2021-12-06T16:15:58.229007",
     "exception": false,
     "start_time": "2021-12-06T16:15:37.956453",
     "status": "completed"
    },
    "tags": []
   },
   "outputs": [
    {
     "data": {
      "text/html": [
       "<div>\n",
       "<style scoped>\n",
       "    .dataframe tbody tr th:only-of-type {\n",
       "        vertical-align: middle;\n",
       "    }\n",
       "\n",
       "    .dataframe tbody tr th {\n",
       "        vertical-align: top;\n",
       "    }\n",
       "\n",
       "    .dataframe thead th {\n",
       "        text-align: right;\n",
       "    }\n",
       "</style>\n",
       "<table border=\"1\" class=\"dataframe\">\n",
       "  <thead>\n",
       "    <tr style=\"text-align: right;\">\n",
       "      <th></th>\n",
       "      <th>Id</th>\n",
       "      <th>Elevation</th>\n",
       "      <th>Aspect</th>\n",
       "      <th>Slope</th>\n",
       "      <th>Horizontal_Distance_To_Hydrology</th>\n",
       "      <th>Vertical_Distance_To_Hydrology</th>\n",
       "      <th>Horizontal_Distance_To_Roadways</th>\n",
       "      <th>Hillshade_9am</th>\n",
       "      <th>Hillshade_Noon</th>\n",
       "      <th>Hillshade_3pm</th>\n",
       "      <th>Horizontal_Distance_To_Fire_Points</th>\n",
       "      <th>Wilderness_Area1</th>\n",
       "      <th>Wilderness_Area2</th>\n",
       "      <th>Wilderness_Area3</th>\n",
       "      <th>Wilderness_Area4</th>\n",
       "      <th>Soil_Type1</th>\n",
       "      <th>Soil_Type2</th>\n",
       "      <th>Soil_Type3</th>\n",
       "      <th>Soil_Type4</th>\n",
       "      <th>Soil_Type5</th>\n",
       "      <th>Soil_Type6</th>\n",
       "      <th>Soil_Type7</th>\n",
       "      <th>Soil_Type8</th>\n",
       "      <th>Soil_Type9</th>\n",
       "      <th>Soil_Type10</th>\n",
       "      <th>Soil_Type11</th>\n",
       "      <th>Soil_Type12</th>\n",
       "      <th>Soil_Type13</th>\n",
       "      <th>Soil_Type14</th>\n",
       "      <th>Soil_Type15</th>\n",
       "      <th>Soil_Type16</th>\n",
       "      <th>Soil_Type17</th>\n",
       "      <th>Soil_Type18</th>\n",
       "      <th>Soil_Type19</th>\n",
       "      <th>Soil_Type20</th>\n",
       "      <th>Soil_Type21</th>\n",
       "      <th>Soil_Type22</th>\n",
       "      <th>Soil_Type23</th>\n",
       "      <th>Soil_Type24</th>\n",
       "      <th>Soil_Type25</th>\n",
       "      <th>Soil_Type26</th>\n",
       "      <th>Soil_Type27</th>\n",
       "      <th>Soil_Type28</th>\n",
       "      <th>Soil_Type29</th>\n",
       "      <th>Soil_Type30</th>\n",
       "      <th>Soil_Type31</th>\n",
       "      <th>Soil_Type32</th>\n",
       "      <th>Soil_Type33</th>\n",
       "      <th>Soil_Type34</th>\n",
       "      <th>Soil_Type35</th>\n",
       "      <th>Soil_Type36</th>\n",
       "      <th>Soil_Type37</th>\n",
       "      <th>Soil_Type38</th>\n",
       "      <th>Soil_Type39</th>\n",
       "      <th>Soil_Type40</th>\n",
       "      <th>Cover_Type</th>\n",
       "    </tr>\n",
       "  </thead>\n",
       "  <tbody>\n",
       "    <tr>\n",
       "      <th>0</th>\n",
       "      <td>0</td>\n",
       "      <td>3189</td>\n",
       "      <td>40</td>\n",
       "      <td>8</td>\n",
       "      <td>30</td>\n",
       "      <td>13</td>\n",
       "      <td>3270</td>\n",
       "      <td>206</td>\n",
       "      <td>234</td>\n",
       "      <td>193</td>\n",
       "      <td>4873</td>\n",
       "      <td>1</td>\n",
       "      <td>0</td>\n",
       "      <td>0</td>\n",
       "      <td>0</td>\n",
       "      <td>0</td>\n",
       "      <td>0</td>\n",
       "      <td>0</td>\n",
       "      <td>0</td>\n",
       "      <td>0</td>\n",
       "      <td>0</td>\n",
       "      <td>0</td>\n",
       "      <td>0</td>\n",
       "      <td>0</td>\n",
       "      <td>0</td>\n",
       "      <td>0</td>\n",
       "      <td>0</td>\n",
       "      <td>0</td>\n",
       "      <td>0</td>\n",
       "      <td>0</td>\n",
       "      <td>0</td>\n",
       "      <td>0</td>\n",
       "      <td>0</td>\n",
       "      <td>0</td>\n",
       "      <td>0</td>\n",
       "      <td>0</td>\n",
       "      <td>0</td>\n",
       "      <td>0</td>\n",
       "      <td>0</td>\n",
       "      <td>0</td>\n",
       "      <td>0</td>\n",
       "      <td>0</td>\n",
       "      <td>0</td>\n",
       "      <td>1</td>\n",
       "      <td>0</td>\n",
       "      <td>0</td>\n",
       "      <td>0</td>\n",
       "      <td>0</td>\n",
       "      <td>0</td>\n",
       "      <td>0</td>\n",
       "      <td>0</td>\n",
       "      <td>0</td>\n",
       "      <td>0</td>\n",
       "      <td>0</td>\n",
       "      <td>0</td>\n",
       "      <td>1</td>\n",
       "    </tr>\n",
       "    <tr>\n",
       "      <th>1</th>\n",
       "      <td>1</td>\n",
       "      <td>3026</td>\n",
       "      <td>182</td>\n",
       "      <td>5</td>\n",
       "      <td>280</td>\n",
       "      <td>29</td>\n",
       "      <td>3270</td>\n",
       "      <td>233</td>\n",
       "      <td>240</td>\n",
       "      <td>106</td>\n",
       "      <td>5423</td>\n",
       "      <td>1</td>\n",
       "      <td>0</td>\n",
       "      <td>0</td>\n",
       "      <td>0</td>\n",
       "      <td>0</td>\n",
       "      <td>0</td>\n",
       "      <td>0</td>\n",
       "      <td>0</td>\n",
       "      <td>0</td>\n",
       "      <td>0</td>\n",
       "      <td>0</td>\n",
       "      <td>0</td>\n",
       "      <td>0</td>\n",
       "      <td>0</td>\n",
       "      <td>0</td>\n",
       "      <td>0</td>\n",
       "      <td>0</td>\n",
       "      <td>0</td>\n",
       "      <td>0</td>\n",
       "      <td>0</td>\n",
       "      <td>0</td>\n",
       "      <td>0</td>\n",
       "      <td>0</td>\n",
       "      <td>0</td>\n",
       "      <td>0</td>\n",
       "      <td>0</td>\n",
       "      <td>0</td>\n",
       "      <td>0</td>\n",
       "      <td>0</td>\n",
       "      <td>0</td>\n",
       "      <td>0</td>\n",
       "      <td>0</td>\n",
       "      <td>1</td>\n",
       "      <td>0</td>\n",
       "      <td>0</td>\n",
       "      <td>0</td>\n",
       "      <td>0</td>\n",
       "      <td>0</td>\n",
       "      <td>0</td>\n",
       "      <td>0</td>\n",
       "      <td>0</td>\n",
       "      <td>0</td>\n",
       "      <td>0</td>\n",
       "      <td>0</td>\n",
       "      <td>2</td>\n",
       "    </tr>\n",
       "    <tr>\n",
       "      <th>2</th>\n",
       "      <td>2</td>\n",
       "      <td>3106</td>\n",
       "      <td>13</td>\n",
       "      <td>7</td>\n",
       "      <td>351</td>\n",
       "      <td>37</td>\n",
       "      <td>2914</td>\n",
       "      <td>208</td>\n",
       "      <td>234</td>\n",
       "      <td>137</td>\n",
       "      <td>5269</td>\n",
       "      <td>1</td>\n",
       "      <td>0</td>\n",
       "      <td>0</td>\n",
       "      <td>0</td>\n",
       "      <td>0</td>\n",
       "      <td>0</td>\n",
       "      <td>0</td>\n",
       "      <td>0</td>\n",
       "      <td>0</td>\n",
       "      <td>0</td>\n",
       "      <td>0</td>\n",
       "      <td>0</td>\n",
       "      <td>0</td>\n",
       "      <td>0</td>\n",
       "      <td>0</td>\n",
       "      <td>0</td>\n",
       "      <td>0</td>\n",
       "      <td>0</td>\n",
       "      <td>0</td>\n",
       "      <td>0</td>\n",
       "      <td>0</td>\n",
       "      <td>0</td>\n",
       "      <td>0</td>\n",
       "      <td>0</td>\n",
       "      <td>0</td>\n",
       "      <td>0</td>\n",
       "      <td>0</td>\n",
       "      <td>0</td>\n",
       "      <td>0</td>\n",
       "      <td>0</td>\n",
       "      <td>0</td>\n",
       "      <td>0</td>\n",
       "      <td>1</td>\n",
       "      <td>0</td>\n",
       "      <td>0</td>\n",
       "      <td>0</td>\n",
       "      <td>0</td>\n",
       "      <td>0</td>\n",
       "      <td>0</td>\n",
       "      <td>0</td>\n",
       "      <td>0</td>\n",
       "      <td>0</td>\n",
       "      <td>0</td>\n",
       "      <td>0</td>\n",
       "      <td>1</td>\n",
       "    </tr>\n",
       "    <tr>\n",
       "      <th>3</th>\n",
       "      <td>3</td>\n",
       "      <td>3022</td>\n",
       "      <td>276</td>\n",
       "      <td>13</td>\n",
       "      <td>192</td>\n",
       "      <td>16</td>\n",
       "      <td>3034</td>\n",
       "      <td>207</td>\n",
       "      <td>238</td>\n",
       "      <td>156</td>\n",
       "      <td>2866</td>\n",
       "      <td>1</td>\n",
       "      <td>0</td>\n",
       "      <td>0</td>\n",
       "      <td>0</td>\n",
       "      <td>0</td>\n",
       "      <td>0</td>\n",
       "      <td>0</td>\n",
       "      <td>0</td>\n",
       "      <td>0</td>\n",
       "      <td>0</td>\n",
       "      <td>0</td>\n",
       "      <td>0</td>\n",
       "      <td>0</td>\n",
       "      <td>0</td>\n",
       "      <td>0</td>\n",
       "      <td>0</td>\n",
       "      <td>0</td>\n",
       "      <td>0</td>\n",
       "      <td>0</td>\n",
       "      <td>0</td>\n",
       "      <td>0</td>\n",
       "      <td>0</td>\n",
       "      <td>0</td>\n",
       "      <td>0</td>\n",
       "      <td>0</td>\n",
       "      <td>0</td>\n",
       "      <td>0</td>\n",
       "      <td>0</td>\n",
       "      <td>0</td>\n",
       "      <td>0</td>\n",
       "      <td>0</td>\n",
       "      <td>0</td>\n",
       "      <td>1</td>\n",
       "      <td>0</td>\n",
       "      <td>0</td>\n",
       "      <td>0</td>\n",
       "      <td>0</td>\n",
       "      <td>0</td>\n",
       "      <td>0</td>\n",
       "      <td>0</td>\n",
       "      <td>0</td>\n",
       "      <td>0</td>\n",
       "      <td>0</td>\n",
       "      <td>0</td>\n",
       "      <td>2</td>\n",
       "    </tr>\n",
       "    <tr>\n",
       "      <th>4</th>\n",
       "      <td>4</td>\n",
       "      <td>2906</td>\n",
       "      <td>186</td>\n",
       "      <td>13</td>\n",
       "      <td>266</td>\n",
       "      <td>22</td>\n",
       "      <td>2916</td>\n",
       "      <td>231</td>\n",
       "      <td>231</td>\n",
       "      <td>154</td>\n",
       "      <td>2642</td>\n",
       "      <td>1</td>\n",
       "      <td>0</td>\n",
       "      <td>0</td>\n",
       "      <td>0</td>\n",
       "      <td>0</td>\n",
       "      <td>0</td>\n",
       "      <td>0</td>\n",
       "      <td>0</td>\n",
       "      <td>0</td>\n",
       "      <td>0</td>\n",
       "      <td>0</td>\n",
       "      <td>0</td>\n",
       "      <td>0</td>\n",
       "      <td>0</td>\n",
       "      <td>0</td>\n",
       "      <td>0</td>\n",
       "      <td>0</td>\n",
       "      <td>0</td>\n",
       "      <td>0</td>\n",
       "      <td>0</td>\n",
       "      <td>0</td>\n",
       "      <td>0</td>\n",
       "      <td>0</td>\n",
       "      <td>0</td>\n",
       "      <td>0</td>\n",
       "      <td>0</td>\n",
       "      <td>0</td>\n",
       "      <td>0</td>\n",
       "      <td>0</td>\n",
       "      <td>0</td>\n",
       "      <td>0</td>\n",
       "      <td>0</td>\n",
       "      <td>1</td>\n",
       "      <td>0</td>\n",
       "      <td>0</td>\n",
       "      <td>0</td>\n",
       "      <td>0</td>\n",
       "      <td>0</td>\n",
       "      <td>0</td>\n",
       "      <td>0</td>\n",
       "      <td>0</td>\n",
       "      <td>0</td>\n",
       "      <td>0</td>\n",
       "      <td>0</td>\n",
       "      <td>2</td>\n",
       "    </tr>\n",
       "  </tbody>\n",
       "</table>\n",
       "</div>"
      ],
      "text/plain": [
       "   Id  Elevation  Aspect  Slope  Horizontal_Distance_To_Hydrology  \\\n",
       "0   0       3189      40      8                                30   \n",
       "1   1       3026     182      5                               280   \n",
       "2   2       3106      13      7                               351   \n",
       "3   3       3022     276     13                               192   \n",
       "4   4       2906     186     13                               266   \n",
       "\n",
       "   Vertical_Distance_To_Hydrology  Horizontal_Distance_To_Roadways  \\\n",
       "0                              13                             3270   \n",
       "1                              29                             3270   \n",
       "2                              37                             2914   \n",
       "3                              16                             3034   \n",
       "4                              22                             2916   \n",
       "\n",
       "   Hillshade_9am  Hillshade_Noon  Hillshade_3pm  \\\n",
       "0            206             234            193   \n",
       "1            233             240            106   \n",
       "2            208             234            137   \n",
       "3            207             238            156   \n",
       "4            231             231            154   \n",
       "\n",
       "   Horizontal_Distance_To_Fire_Points  Wilderness_Area1  Wilderness_Area2  \\\n",
       "0                                4873                 1                 0   \n",
       "1                                5423                 1                 0   \n",
       "2                                5269                 1                 0   \n",
       "3                                2866                 1                 0   \n",
       "4                                2642                 1                 0   \n",
       "\n",
       "   Wilderness_Area3  Wilderness_Area4  Soil_Type1  Soil_Type2  Soil_Type3  \\\n",
       "0                 0                 0           0           0           0   \n",
       "1                 0                 0           0           0           0   \n",
       "2                 0                 0           0           0           0   \n",
       "3                 0                 0           0           0           0   \n",
       "4                 0                 0           0           0           0   \n",
       "\n",
       "   Soil_Type4  Soil_Type5  Soil_Type6  Soil_Type7  Soil_Type8  Soil_Type9  \\\n",
       "0           0           0           0           0           0           0   \n",
       "1           0           0           0           0           0           0   \n",
       "2           0           0           0           0           0           0   \n",
       "3           0           0           0           0           0           0   \n",
       "4           0           0           0           0           0           0   \n",
       "\n",
       "   Soil_Type10  Soil_Type11  Soil_Type12  Soil_Type13  Soil_Type14  \\\n",
       "0            0            0            0            0            0   \n",
       "1            0            0            0            0            0   \n",
       "2            0            0            0            0            0   \n",
       "3            0            0            0            0            0   \n",
       "4            0            0            0            0            0   \n",
       "\n",
       "   Soil_Type15  Soil_Type16  Soil_Type17  Soil_Type18  Soil_Type19  \\\n",
       "0            0            0            0            0            0   \n",
       "1            0            0            0            0            0   \n",
       "2            0            0            0            0            0   \n",
       "3            0            0            0            0            0   \n",
       "4            0            0            0            0            0   \n",
       "\n",
       "   Soil_Type20  Soil_Type21  Soil_Type22  Soil_Type23  Soil_Type24  \\\n",
       "0            0            0            0            0            0   \n",
       "1            0            0            0            0            0   \n",
       "2            0            0            0            0            0   \n",
       "3            0            0            0            0            0   \n",
       "4            0            0            0            0            0   \n",
       "\n",
       "   Soil_Type25  Soil_Type26  Soil_Type27  Soil_Type28  Soil_Type29  \\\n",
       "0            0            0            0            0            1   \n",
       "1            0            0            0            0            1   \n",
       "2            0            0            0            0            1   \n",
       "3            0            0            0            0            1   \n",
       "4            0            0            0            0            1   \n",
       "\n",
       "   Soil_Type30  Soil_Type31  Soil_Type32  Soil_Type33  Soil_Type34  \\\n",
       "0            0            0            0            0            0   \n",
       "1            0            0            0            0            0   \n",
       "2            0            0            0            0            0   \n",
       "3            0            0            0            0            0   \n",
       "4            0            0            0            0            0   \n",
       "\n",
       "   Soil_Type35  Soil_Type36  Soil_Type37  Soil_Type38  Soil_Type39  \\\n",
       "0            0            0            0            0            0   \n",
       "1            0            0            0            0            0   \n",
       "2            0            0            0            0            0   \n",
       "3            0            0            0            0            0   \n",
       "4            0            0            0            0            0   \n",
       "\n",
       "   Soil_Type40  Cover_Type  \n",
       "0            0           1  \n",
       "1            0           2  \n",
       "2            0           1  \n",
       "3            0           2  \n",
       "4            0           2  "
      ]
     },
     "execution_count": 1,
     "metadata": {},
     "output_type": "execute_result"
    }
   ],
   "source": [
    "import numpy as np\n",
    "import pandas as pd\n",
    "\n",
    "\n",
    "pd.set_option(\"display.max_columns\", None)\n",
    "\n",
    "train_df = pd.read_csv(\"../input/tabular-playground-series-dec-2021/train.csv\")\n",
    "test_df = pd.read_csv(\"../input/tabular-playground-series-dec-2021/test.csv\")\n",
    "sub_df = pd.read_csv(\"../input/tabular-playground-series-dec-2021/sample_submission.csv\")\n",
    "\n",
    "train_df.head()"
   ]
  },
  {
   "cell_type": "markdown",
   "id": "4eb8f5c4",
   "metadata": {
    "papermill": {
     "duration": 0.021348,
     "end_time": "2021-12-06T16:15:58.272054",
     "exception": false,
     "start_time": "2021-12-06T16:15:58.250706",
     "status": "completed"
    },
    "tags": []
   },
   "source": [
    "Dropping the **Id** column from both train and test datasets."
   ]
  },
  {
   "cell_type": "code",
   "execution_count": 2,
   "id": "bf119925",
   "metadata": {
    "execution": {
     "iopub.execute_input": "2021-12-06T16:15:59.102966Z",
     "iopub.status.busy": "2021-12-06T16:15:58.314705Z",
     "iopub.status.idle": "2021-12-06T16:15:59.106629Z",
     "shell.execute_reply": "2021-12-06T16:15:59.106170Z"
    },
    "papermill": {
     "duration": 0.814236,
     "end_time": "2021-12-06T16:15:59.106748",
     "exception": false,
     "start_time": "2021-12-06T16:15:58.292512",
     "status": "completed"
    },
    "tags": []
   },
   "outputs": [],
   "source": [
    "train_df.drop(\"Id\", axis=1, inplace=True)\n",
    "test_df.drop(\"Id\", axis=1, inplace=True)"
   ]
  },
  {
   "cell_type": "markdown",
   "id": "f3117f84",
   "metadata": {
    "papermill": {
     "duration": 0.019902,
     "end_time": "2021-12-06T16:15:59.147040",
     "exception": false,
     "start_time": "2021-12-06T16:15:59.127138",
     "status": "completed"
    },
    "tags": []
   },
   "source": [
    "Dropping columns **Soil_Type7** and **Soil_Type15** because all the rows in these column have the same value."
   ]
  },
  {
   "cell_type": "code",
   "execution_count": 3,
   "id": "fd725505",
   "metadata": {
    "execution": {
     "iopub.execute_input": "2021-12-06T16:15:59.876613Z",
     "iopub.status.busy": "2021-12-06T16:15:59.875666Z",
     "iopub.status.idle": "2021-12-06T16:15:59.877448Z",
     "shell.execute_reply": "2021-12-06T16:15:59.877829Z"
    },
    "papermill": {
     "duration": 0.711079,
     "end_time": "2021-12-06T16:15:59.877978",
     "exception": false,
     "start_time": "2021-12-06T16:15:59.166899",
     "status": "completed"
    },
    "tags": []
   },
   "outputs": [],
   "source": [
    "cols = [\"Soil_Type7\", \"Soil_Type15\"]\n",
    "\n",
    "train_df.drop(cols, axis=1, inplace=True)\n",
    "test_df.drop(cols, axis=1, inplace=True)"
   ]
  },
  {
   "cell_type": "markdown",
   "id": "f59e3c76",
   "metadata": {
    "papermill": {
     "duration": 0.02013,
     "end_time": "2021-12-06T16:15:59.918569",
     "exception": false,
     "start_time": "2021-12-06T16:15:59.898439",
     "status": "completed"
    },
    "tags": []
   },
   "source": [
    "Dropping the row with **Cover_Type**=5 because there is only a single row corresponding to it."
   ]
  },
  {
   "cell_type": "code",
   "execution_count": 4,
   "id": "2538eade",
   "metadata": {
    "execution": {
     "iopub.execute_input": "2021-12-06T16:15:59.966099Z",
     "iopub.status.busy": "2021-12-06T16:15:59.965210Z",
     "iopub.status.idle": "2021-12-06T16:16:00.740843Z",
     "shell.execute_reply": "2021-12-06T16:16:00.739941Z"
    },
    "papermill": {
     "duration": 0.802451,
     "end_time": "2021-12-06T16:16:00.740990",
     "exception": false,
     "start_time": "2021-12-06T16:15:59.938539",
     "status": "completed"
    },
    "tags": []
   },
   "outputs": [],
   "source": [
    "idx = train_df[train_df[\"Cover_Type\"] == 5].index\n",
    "train_df.drop(idx, axis=0, inplace=True)"
   ]
  },
  {
   "cell_type": "markdown",
   "id": "881b0ad8",
   "metadata": {
    "papermill": {
     "duration": 0.020029,
     "end_time": "2021-12-06T16:16:00.782341",
     "exception": false,
     "start_time": "2021-12-06T16:16:00.762312",
     "status": "completed"
    },
    "tags": []
   },
   "source": [
    "Renaming some columns with long names"
   ]
  },
  {
   "cell_type": "code",
   "execution_count": 5,
   "id": "4f9c35a6",
   "metadata": {
    "execution": {
     "iopub.execute_input": "2021-12-06T16:16:00.828951Z",
     "iopub.status.busy": "2021-12-06T16:16:00.828400Z",
     "iopub.status.idle": "2021-12-06T16:16:00.832239Z",
     "shell.execute_reply": "2021-12-06T16:16:00.831817Z"
    },
    "papermill": {
     "duration": 0.029802,
     "end_time": "2021-12-06T16:16:00.832346",
     "exception": false,
     "start_time": "2021-12-06T16:16:00.802544",
     "status": "completed"
    },
    "tags": []
   },
   "outputs": [],
   "source": [
    "new_names = {\n",
    "    \"Horizontal_Distance_To_Hydrology\": \"x_dist_hydrlgy\",\n",
    "    \"Vertical_Distance_To_Hydrology\": \"y_dist_hydrlgy\",\n",
    "    \"Horizontal_Distance_To_Roadways\": \"x_dist_rdwys\",\n",
    "    \"Horizontal_Distance_To_Fire_Points\": \"x_dist_firepts\"\n",
    "}\n",
    "\n",
    "train_df.rename(new_names, axis=1, inplace=True)\n",
    "test_df.rename(new_names, axis=1, inplace=True)"
   ]
  },
  {
   "cell_type": "markdown",
   "id": "4044270a",
   "metadata": {
    "papermill": {
     "duration": 0.020224,
     "end_time": "2021-12-06T16:16:00.874306",
     "exception": false,
     "start_time": "2021-12-06T16:16:00.854082",
     "status": "completed"
    },
    "tags": []
   },
   "source": [
    "Encoding all the labels so that they range from 0 to 5."
   ]
  },
  {
   "cell_type": "code",
   "execution_count": 6,
   "id": "6e3ed056",
   "metadata": {
    "execution": {
     "iopub.execute_input": "2021-12-06T16:16:00.919315Z",
     "iopub.status.busy": "2021-12-06T16:16:00.918636Z",
     "iopub.status.idle": "2021-12-06T16:16:02.014533Z",
     "shell.execute_reply": "2021-12-06T16:16:02.014067Z"
    },
    "papermill": {
     "duration": 1.119851,
     "end_time": "2021-12-06T16:16:02.014660",
     "exception": false,
     "start_time": "2021-12-06T16:16:00.894809",
     "status": "completed"
    },
    "tags": []
   },
   "outputs": [],
   "source": [
    "from sklearn.preprocessing import LabelEncoder\n",
    "\n",
    "\n",
    "encoder = LabelEncoder()\n",
    "train_df[\"Cover_Type\"] = encoder.fit_transform(train_df[\"Cover_Type\"])"
   ]
  },
  {
   "cell_type": "markdown",
   "id": "5a7ed8fc",
   "metadata": {
    "papermill": {
     "duration": 0.021188,
     "end_time": "2021-12-06T16:16:02.057146",
     "exception": false,
     "start_time": "2021-12-06T16:16:02.035958",
     "status": "completed"
    },
    "tags": []
   },
   "source": [
    "# Part 2: Feature Engineering"
   ]
  },
  {
   "cell_type": "markdown",
   "id": "821d10f7",
   "metadata": {
    "papermill": {
     "duration": 0.020306,
     "end_time": "2021-12-06T16:16:02.098796",
     "exception": false,
     "start_time": "2021-12-06T16:16:02.078490",
     "status": "completed"
    },
    "tags": []
   },
   "source": [
    "**Aspect** is the compass direction that a terrain faces. Here, It is expressed in degrees. All the values from 0 to 359 are present. Besides, there are some values greater than 359 and some smaller than 0. It will be better If we make all the values in this column lie in the range (0, 359). Moreover, all the values in this column lies in the range (-360, 720) so adding 360 to angles smaller than 0 and subtracting 360 from angles greater than 359 will do the work."
   ]
  },
  {
   "cell_type": "code",
   "execution_count": 7,
   "id": "1a165c05",
   "metadata": {
    "execution": {
     "iopub.execute_input": "2021-12-06T16:16:02.148139Z",
     "iopub.status.busy": "2021-12-06T16:16:02.147418Z",
     "iopub.status.idle": "2021-12-06T16:16:02.458331Z",
     "shell.execute_reply": "2021-12-06T16:16:02.457441Z"
    },
    "papermill": {
     "duration": 0.339444,
     "end_time": "2021-12-06T16:16:02.458481",
     "exception": false,
     "start_time": "2021-12-06T16:16:02.119037",
     "status": "completed"
    },
    "tags": []
   },
   "outputs": [],
   "source": [
    "train_df[\"Aspect\"][train_df[\"Aspect\"] < 0] += 360\n",
    "train_df[\"Aspect\"][train_df[\"Aspect\"] > 359] -= 360\n",
    "\n",
    "test_df[\"Aspect\"][test_df[\"Aspect\"] < 0] += 360\n",
    "test_df[\"Aspect\"][test_df[\"Aspect\"] > 359] -= 360"
   ]
  },
  {
   "cell_type": "markdown",
   "id": "86d86a59",
   "metadata": {
    "papermill": {
     "duration": 0.020727,
     "end_time": "2021-12-06T16:16:02.500912",
     "exception": false,
     "start_time": "2021-12-06T16:16:02.480185",
     "status": "completed"
    },
    "tags": []
   },
   "source": [
    "Creating distance based features from **Horizontal_Distance_To_Hydrology** and **Vertical_Distance_To_Hydrology**."
   ]
  },
  {
   "cell_type": "code",
   "execution_count": 8,
   "id": "d9d8ca86",
   "metadata": {
    "execution": {
     "iopub.execute_input": "2021-12-06T16:16:02.549620Z",
     "iopub.status.busy": "2021-12-06T16:16:02.548528Z",
     "iopub.status.idle": "2021-12-06T16:16:02.704474Z",
     "shell.execute_reply": "2021-12-06T16:16:02.704909Z"
    },
    "papermill": {
     "duration": 0.183377,
     "end_time": "2021-12-06T16:16:02.705102",
     "exception": false,
     "start_time": "2021-12-06T16:16:02.521725",
     "status": "completed"
    },
    "tags": []
   },
   "outputs": [],
   "source": [
    "# Manhhattan distance to Hydrology\n",
    "train_df[\"mnhttn_dist_hydrlgy\"] = np.abs(train_df[\"x_dist_hydrlgy\"]) + np.abs(train_df[\"y_dist_hydrlgy\"])\n",
    "test_df[\"mnhttn_dist_hydrlgy\"] = np.abs(test_df[\"x_dist_hydrlgy\"]) + np.abs(test_df[\"y_dist_hydrlgy\"])\n",
    "\n",
    "# Euclidean distance to Hydrology\n",
    "train_df[\"ecldn_dist_hydrlgy\"] = (train_df[\"x_dist_hydrlgy\"]**2 + train_df[\"y_dist_hydrlgy\"]**2)**0.5\n",
    "test_df[\"ecldn_dist_hydrlgy\"] = (test_df[\"x_dist_hydrlgy\"]**2 + test_df[\"y_dist_hydrlgy\"]**2)**0.5"
   ]
  },
  {
   "cell_type": "markdown",
   "id": "77a37df9",
   "metadata": {
    "papermill": {
     "duration": 0.020735,
     "end_time": "2021-12-06T16:16:02.747104",
     "exception": false,
     "start_time": "2021-12-06T16:16:02.726369",
     "status": "completed"
    },
    "tags": []
   },
   "source": [
    "Creating the following new features:\n",
    "1. Sum of all the soil types\n",
    "2. Sum of all the wilderness area types\n",
    "\n",
    "These features are borrowed from this discussion topic: https://www.kaggle.com/c/tabular-playground-series-dec-2021/discussion/292823"
   ]
  },
  {
   "cell_type": "code",
   "execution_count": 9,
   "id": "c856fa95",
   "metadata": {
    "execution": {
     "iopub.execute_input": "2021-12-06T16:16:02.796378Z",
     "iopub.status.busy": "2021-12-06T16:16:02.795276Z",
     "iopub.status.idle": "2021-12-06T16:16:06.744219Z",
     "shell.execute_reply": "2021-12-06T16:16:06.743658Z"
    },
    "papermill": {
     "duration": 3.976373,
     "end_time": "2021-12-06T16:16:06.744359",
     "exception": false,
     "start_time": "2021-12-06T16:16:02.767986",
     "status": "completed"
    },
    "tags": []
   },
   "outputs": [],
   "source": [
    "soil_features = [x for x in train_df.columns if x.startswith(\"Soil_Type\")]\n",
    "train_df[\"soil_type_count\"] = train_df[soil_features].sum(axis=1)\n",
    "test_df[\"soil_type_count\"] = test_df[soil_features].sum(axis=1)\n",
    "\n",
    "wilderness_features = [x for x in train_df.columns if x.startswith(\"Wilderness_Area\")]\n",
    "train_df[\"wilderness_area_count\"] = train_df[wilderness_features].sum(axis=1)\n",
    "test_df[\"wilderness_area_count\"] = test_df[wilderness_features].sum(axis=1)"
   ]
  },
  {
   "cell_type": "markdown",
   "id": "7fe32f2f",
   "metadata": {
    "papermill": {
     "duration": 0.020879,
     "end_time": "2021-12-06T16:16:06.786568",
     "exception": false,
     "start_time": "2021-12-06T16:16:06.765689",
     "status": "completed"
    },
    "tags": []
   },
   "source": [
    "A quick Google search about **Hillshade** leads to the following result:\n",
    "\n",
    "> Hillshading computes surface illumination as values from 0 to 255 based on a given compass direction to the sun (azimuth) and a certain altitude above the horizon (altitude). Hillshades are often used to produce maps that are visually appealing.\n",
    "\n",
    "Thus, hillshade is a 3D representation of a terrain which is used to gain insight about its form by measuring luminosity of certain patches of that terrain that results when a source of light is casted at a particular angle.\n",
    "\n",
    "More Information about hillshade [here](http://www.geography.hunter.cuny.edu/~jochen/gtech361/lectures/lecture11/concepts/hillshade.htm#:~:text=Hillshading%20computes%20surface%20illumination%20as,maps%20that%20are%20visually%20appealing.)\n",
    "\n",
    "In both train and test datasets, there are certain rows with hillshade value more than 255 or less than 0. They must be the result of recording error and should be relpaced with an appropriate value. Perhaps, values less than 0 refer to the darkest shade and replacing them with 0 should be fine. Similarly, we can assume that hillshade values more than 255 refer to the brightest shades and a value of 255 should be good replacement."
   ]
  },
  {
   "cell_type": "code",
   "execution_count": 10,
   "id": "4e914f00",
   "metadata": {
    "execution": {
     "iopub.execute_input": "2021-12-06T16:16:06.836391Z",
     "iopub.status.busy": "2021-12-06T16:16:06.835551Z",
     "iopub.status.idle": "2021-12-06T16:16:07.019381Z",
     "shell.execute_reply": "2021-12-06T16:16:07.018268Z"
    },
    "papermill": {
     "duration": 0.212315,
     "end_time": "2021-12-06T16:16:07.019530",
     "exception": false,
     "start_time": "2021-12-06T16:16:06.807215",
     "status": "completed"
    },
    "tags": []
   },
   "outputs": [],
   "source": [
    "train_df.loc[train_df[\"Hillshade_9am\"] < 0, \"Hillshade_9am\"] = 0\n",
    "test_df.loc[test_df[\"Hillshade_9am\"] < 0, \"Hillshade_9am\"] = 0\n",
    "\n",
    "train_df.loc[train_df[\"Hillshade_Noon\"] < 0, \"Hillshade_Noon\"] = 0\n",
    "test_df.loc[test_df[\"Hillshade_Noon\"] < 0, \"Hillshade_Noon\"] = 0\n",
    "\n",
    "train_df.loc[train_df[\"Hillshade_3pm\"] < 0, \"Hillshade_3pm\"] = 0\n",
    "test_df.loc[test_df[\"Hillshade_3pm\"] < 0, \"Hillshade_3pm\"] = 0\n",
    "\n",
    "train_df.loc[train_df[\"Hillshade_9am\"] > 255, \"Hillshade_9am\"] = 255\n",
    "test_df.loc[test_df[\"Hillshade_9am\"] > 255, \"Hillshade_9am\"] = 255\n",
    "\n",
    "train_df.loc[train_df[\"Hillshade_Noon\"] > 255, \"Hillshade_Noon\"] = 255\n",
    "test_df.loc[test_df[\"Hillshade_Noon\"] > 255, \"Hillshade_Noon\"] = 255\n",
    "\n",
    "train_df.loc[train_df[\"Hillshade_3pm\"] > 255, \"Hillshade_3pm\"] = 255\n",
    "test_df.loc[test_df[\"Hillshade_3pm\"] > 255, \"Hillshade_3pm\"] = 255"
   ]
  },
  {
   "cell_type": "markdown",
   "id": "2e6deef1",
   "metadata": {
    "execution": {
     "iopub.execute_input": "2021-12-04T14:25:28.016566Z",
     "iopub.status.busy": "2021-12-04T14:25:28.016165Z",
     "iopub.status.idle": "2021-12-04T14:25:28.021173Z",
     "shell.execute_reply": "2021-12-04T14:25:28.019744Z",
     "shell.execute_reply.started": "2021-12-04T14:25:28.016538Z"
    },
    "papermill": {
     "duration": 0.025359,
     "end_time": "2021-12-06T16:16:07.068623",
     "exception": false,
     "start_time": "2021-12-06T16:16:07.043264",
     "status": "completed"
    },
    "tags": []
   },
   "source": [
    "Scaling with RobustScaler"
   ]
  },
  {
   "cell_type": "code",
   "execution_count": 11,
   "id": "6ead3020",
   "metadata": {
    "execution": {
     "iopub.execute_input": "2021-12-06T16:16:07.127096Z",
     "iopub.status.busy": "2021-12-06T16:16:07.125686Z",
     "iopub.status.idle": "2021-12-06T16:16:20.327889Z",
     "shell.execute_reply": "2021-12-06T16:16:20.327385Z"
    },
    "papermill": {
     "duration": 13.234529,
     "end_time": "2021-12-06T16:16:20.328032",
     "exception": false,
     "start_time": "2021-12-06T16:16:07.093503",
     "status": "completed"
    },
    "tags": []
   },
   "outputs": [],
   "source": [
    "from sklearn.preprocessing import RobustScaler\n",
    "\n",
    "\n",
    "cols = [\n",
    "    \"Elevation\",\n",
    "    \"Aspect\",\n",
    "    \"mnhttn_dist_hydrlgy\",\n",
    "    \"ecldn_dist_hydrlgy\",\n",
    "    \"soil_type_count\",\n",
    "    \"wilderness_area_count\",\n",
    "    \"Slope\",\n",
    "    \"x_dist_hydrlgy\",\n",
    "    \"y_dist_hydrlgy\",\n",
    "    \"x_dist_rdwys\",\n",
    "    \"Hillshade_9am\",\n",
    "    \"Hillshade_Noon\",\n",
    "    \"Hillshade_3pm\",\n",
    "    \"x_dist_firepts\",\n",
    "    \"soil_type_count\",\n",
    "    \"wilderness_area_count\"\n",
    "]\n",
    "\n",
    "scaler = RobustScaler()\n",
    "train_df[cols] = scaler.fit_transform(train_df[cols])\n",
    "test_df[cols] = scaler.transform(test_df[cols])"
   ]
  },
  {
   "cell_type": "markdown",
   "id": "a2b40e73",
   "metadata": {
    "papermill": {
     "duration": 0.02051,
     "end_time": "2021-12-06T16:16:20.369761",
     "exception": false,
     "start_time": "2021-12-06T16:16:20.349251",
     "status": "completed"
    },
    "tags": []
   },
   "source": [
    "Reducing the size of train and test dataframes"
   ]
  },
  {
   "cell_type": "code",
   "execution_count": 12,
   "id": "102ecef5",
   "metadata": {
    "execution": {
     "iopub.execute_input": "2021-12-06T16:16:20.423237Z",
     "iopub.status.busy": "2021-12-06T16:16:20.422276Z",
     "iopub.status.idle": "2021-12-06T16:16:20.424184Z",
     "shell.execute_reply": "2021-12-06T16:16:20.424623Z"
    },
    "papermill": {
     "duration": 0.034272,
     "end_time": "2021-12-06T16:16:20.424740",
     "exception": false,
     "start_time": "2021-12-06T16:16:20.390468",
     "status": "completed"
    },
    "tags": []
   },
   "outputs": [],
   "source": [
    "def reduce_mem_usage(df, verbose=True):\n",
    "    numerics = ['int16', 'int32', 'int64', 'float16', 'float32', 'float64']\n",
    "    start_mem = df.memory_usage().sum() / 1024**2\n",
    "\n",
    "    for col in df.columns:\n",
    "        col_type = df[col].dtypes\n",
    "\n",
    "        if col_type in numerics:\n",
    "            c_min = df[col].min()\n",
    "            c_max = df[col].max()\n",
    "\n",
    "            if str(col_type)[:3] == 'int':\n",
    "                if c_min > np.iinfo(np.int8).min and c_max < np.iinfo(np.int8).max:\n",
    "                    df[col] = df[col].astype(np.int8)\n",
    "                elif c_min > np.iinfo(np.int16).min and c_max < np.iinfo(np.int16).max:\n",
    "                    df[col] = df[col].astype(np.int16)\n",
    "                elif c_min > np.iinfo(np.int32).min and c_max < np.iinfo(np.int32).max:\n",
    "                    df[col] = df[col].astype(np.int32)\n",
    "                elif c_min > np.iinfo(np.int64).min and c_max < np.iinfo(np.int64).max:\n",
    "                    df[col] = df[col].astype(np.int64)  \n",
    "            else:\n",
    "                if c_min > np.finfo(np.float32).min and c_max < np.finfo(np.float32).max:\n",
    "                    df[col] = df[col].astype(np.float32)\n",
    "                else:\n",
    "                    df[col] = df[col].astype(np.float64)\n",
    "\n",
    "    end_mem = df.memory_usage().sum() / 1024**2\n",
    "\n",
    "    if verbose:\n",
    "        print('Mem. usage decreased to {:5.2f} Mb ({:.1f}% reduction)'.format(end_mem, 100 * (start_mem - end_mem) / start_mem))\n",
    " \n",
    "    return df"
   ]
  },
  {
   "cell_type": "code",
   "execution_count": 13,
   "id": "a98b4717",
   "metadata": {
    "execution": {
     "iopub.execute_input": "2021-12-06T16:16:20.473203Z",
     "iopub.status.busy": "2021-12-06T16:16:20.472446Z",
     "iopub.status.idle": "2021-12-06T16:16:33.202922Z",
     "shell.execute_reply": "2021-12-06T16:16:33.203507Z"
    },
    "papermill": {
     "duration": 12.758483,
     "end_time": "2021-12-06T16:16:33.203697",
     "exception": false,
     "start_time": "2021-12-06T16:16:20.445214",
     "status": "completed"
    },
    "tags": []
   },
   "outputs": [
    {
     "name": "stdout",
     "output_type": "stream",
     "text": [
      "Mem. usage decreased to 537.17 Mb (71.7% reduction)\n",
      "Mem. usage decreased to 93.46 Mb (78.1% reduction)\n"
     ]
    }
   ],
   "source": [
    "train_df = reduce_mem_usage(train_df)\n",
    "test_df = reduce_mem_usage(test_df)"
   ]
  },
  {
   "cell_type": "markdown",
   "id": "5b39b4d8",
   "metadata": {
    "papermill": {
     "duration": 0.021605,
     "end_time": "2021-12-06T16:16:33.248215",
     "exception": false,
     "start_time": "2021-12-06T16:16:33.226610",
     "status": "completed"
    },
    "tags": []
   },
   "source": [
    "# Part 3: Modelling with Neural Network"
   ]
  },
  {
   "cell_type": "markdown",
   "id": "c9bb6bff",
   "metadata": {
    "papermill": {
     "duration": 0.021663,
     "end_time": "2021-12-06T16:16:33.291594",
     "exception": false,
     "start_time": "2021-12-06T16:16:33.269931",
     "status": "completed"
    },
    "tags": []
   },
   "source": [
    "I have used Self-normalizing Neural Networks here which is described in this notebook: https://www.kaggle.com/gulshanmishra/self-normalizing-neural-networks"
   ]
  },
  {
   "cell_type": "code",
   "execution_count": 14,
   "id": "5ef7ad45",
   "metadata": {
    "execution": {
     "iopub.execute_input": "2021-12-06T16:16:33.342665Z",
     "iopub.status.busy": "2021-12-06T16:16:33.342160Z",
     "iopub.status.idle": "2021-12-06T16:16:38.099565Z",
     "shell.execute_reply": "2021-12-06T16:16:38.098684Z"
    },
    "papermill": {
     "duration": 4.78512,
     "end_time": "2021-12-06T16:16:38.099706",
     "exception": false,
     "start_time": "2021-12-06T16:16:33.314586",
     "status": "completed"
    },
    "tags": []
   },
   "outputs": [],
   "source": [
    "from tensorflow.keras.models import Sequential\n",
    "from tensorflow.keras.layers import Dense, BatchNormalization\n",
    "\n",
    "\n",
    "INPUT_SHAPE = test_df.shape[1:]\n",
    "NUM_CLASSES = train_df[\"Cover_Type\"].nunique()\n",
    "\n",
    "def build_model():\n",
    "    model = Sequential([\n",
    "        Dense(units=300, kernel_initializer=\"lecun_normal\", activation=\"selu\", input_shape=INPUT_SHAPE),\n",
    "        BatchNormalization(),\n",
    "        Dense(units=200, kernel_initializer=\"lecun_normal\", activation=\"selu\"),\n",
    "        BatchNormalization(),\n",
    "        Dense(units=100, kernel_initializer=\"lecun_normal\", activation=\"selu\"),\n",
    "        BatchNormalization(),\n",
    "        Dense(units=50, kernel_initializer=\"lecun_normal\", activation=\"selu\"),\n",
    "        BatchNormalization(),\n",
    "        Dense(units=NUM_CLASSES, activation=\"softmax\")\n",
    "    ])\n",
    "\n",
    "    model.compile(\n",
    "        optimizer=\"adam\",\n",
    "        loss=\"sparse_categorical_crossentropy\",\n",
    "        metrics=[\"accuracy\"]\n",
    "    )\n",
    "\n",
    "    return model"
   ]
  },
  {
   "cell_type": "markdown",
   "id": "9ab2ff58",
   "metadata": {
    "papermill": {
     "duration": 0.021284,
     "end_time": "2021-12-06T16:16:38.142782",
     "exception": false,
     "start_time": "2021-12-06T16:16:38.121498",
     "status": "completed"
    },
    "tags": []
   },
   "source": [
    "Callbacks for early stopping and learning rate reduction when it \"plateaus\""
   ]
  },
  {
   "cell_type": "code",
   "execution_count": 15,
   "id": "5a9a02d7",
   "metadata": {
    "execution": {
     "iopub.execute_input": "2021-12-06T16:16:38.190611Z",
     "iopub.status.busy": "2021-12-06T16:16:38.189967Z",
     "iopub.status.idle": "2021-12-06T16:16:38.192979Z",
     "shell.execute_reply": "2021-12-06T16:16:38.192548Z"
    },
    "papermill": {
     "duration": 0.028944,
     "end_time": "2021-12-06T16:16:38.193092",
     "exception": false,
     "start_time": "2021-12-06T16:16:38.164148",
     "status": "completed"
    },
    "tags": []
   },
   "outputs": [],
   "source": [
    "from tensorflow.keras.callbacks import ReduceLROnPlateau, EarlyStopping\n",
    "\n",
    "\n",
    "reduce_lr = ReduceLROnPlateau(\n",
    "    monitor=\"val_loss\",\n",
    "    factor=0.5,\n",
    "    patience=5\n",
    ")\n",
    "\n",
    "early_stop = EarlyStopping(\n",
    "    monitor=\"val_accuracy\",\n",
    "    patience=20,\n",
    "    restore_best_weights=True\n",
    ")\n",
    "\n",
    "callbacks = [reduce_lr, early_stop]"
   ]
  },
  {
   "cell_type": "code",
   "execution_count": 16,
   "id": "11110971",
   "metadata": {
    "execution": {
     "iopub.execute_input": "2021-12-06T16:16:38.241045Z",
     "iopub.status.busy": "2021-12-06T16:16:38.240428Z",
     "iopub.status.idle": "2021-12-06T16:16:40.528494Z",
     "shell.execute_reply": "2021-12-06T16:16:40.527863Z"
    },
    "papermill": {
     "duration": 2.313471,
     "end_time": "2021-12-06T16:16:40.528635",
     "exception": false,
     "start_time": "2021-12-06T16:16:38.215164",
     "status": "completed"
    },
    "tags": []
   },
   "outputs": [
    {
     "name": "stdout",
     "output_type": "stream",
     "text": [
      "Model: \"sequential\"\n",
      "_________________________________________________________________\n",
      "Layer (type)                 Output Shape              Param #   \n",
      "=================================================================\n",
      "dense (Dense)                (None, 300)               17100     \n",
      "_________________________________________________________________\n",
      "batch_normalization (BatchNo (None, 300)               1200      \n",
      "_________________________________________________________________\n",
      "dense_1 (Dense)              (None, 200)               60200     \n",
      "_________________________________________________________________\n",
      "batch_normalization_1 (Batch (None, 200)               800       \n",
      "_________________________________________________________________\n",
      "dense_2 (Dense)              (None, 100)               20100     \n",
      "_________________________________________________________________\n",
      "batch_normalization_2 (Batch (None, 100)               400       \n",
      "_________________________________________________________________\n",
      "dense_3 (Dense)              (None, 50)                5050      \n",
      "_________________________________________________________________\n",
      "batch_normalization_3 (Batch (None, 50)                200       \n",
      "_________________________________________________________________\n",
      "dense_4 (Dense)              (None, 6)                 306       \n",
      "=================================================================\n",
      "Total params: 105,356\n",
      "Trainable params: 104,056\n",
      "Non-trainable params: 1,300\n",
      "_________________________________________________________________\n"
     ]
    },
    {
     "name": "stderr",
     "output_type": "stream",
     "text": [
      "2021-12-06 16:16:38.324103: I tensorflow/stream_executor/cuda/cuda_gpu_executor.cc:937] successful NUMA node read from SysFS had negative value (-1), but there must be at least one NUMA node, so returning NUMA node zero\n",
      "2021-12-06 16:16:38.430077: I tensorflow/stream_executor/cuda/cuda_gpu_executor.cc:937] successful NUMA node read from SysFS had negative value (-1), but there must be at least one NUMA node, so returning NUMA node zero\n",
      "2021-12-06 16:16:38.430790: I tensorflow/stream_executor/cuda/cuda_gpu_executor.cc:937] successful NUMA node read from SysFS had negative value (-1), but there must be at least one NUMA node, so returning NUMA node zero\n",
      "2021-12-06 16:16:38.431984: I tensorflow/core/platform/cpu_feature_guard.cc:142] This TensorFlow binary is optimized with oneAPI Deep Neural Network Library (oneDNN) to use the following CPU instructions in performance-critical operations:  AVX2 AVX512F FMA\n",
      "To enable them in other operations, rebuild TensorFlow with the appropriate compiler flags.\n",
      "2021-12-06 16:16:38.433080: I tensorflow/stream_executor/cuda/cuda_gpu_executor.cc:937] successful NUMA node read from SysFS had negative value (-1), but there must be at least one NUMA node, so returning NUMA node zero\n",
      "2021-12-06 16:16:38.433733: I tensorflow/stream_executor/cuda/cuda_gpu_executor.cc:937] successful NUMA node read from SysFS had negative value (-1), but there must be at least one NUMA node, so returning NUMA node zero\n",
      "2021-12-06 16:16:38.434410: I tensorflow/stream_executor/cuda/cuda_gpu_executor.cc:937] successful NUMA node read from SysFS had negative value (-1), but there must be at least one NUMA node, so returning NUMA node zero\n",
      "2021-12-06 16:16:40.109631: I tensorflow/stream_executor/cuda/cuda_gpu_executor.cc:937] successful NUMA node read from SysFS had negative value (-1), but there must be at least one NUMA node, so returning NUMA node zero\n",
      "2021-12-06 16:16:40.110472: I tensorflow/stream_executor/cuda/cuda_gpu_executor.cc:937] successful NUMA node read from SysFS had negative value (-1), but there must be at least one NUMA node, so returning NUMA node zero\n",
      "2021-12-06 16:16:40.111122: I tensorflow/stream_executor/cuda/cuda_gpu_executor.cc:937] successful NUMA node read from SysFS had negative value (-1), but there must be at least one NUMA node, so returning NUMA node zero\n",
      "2021-12-06 16:16:40.111689: I tensorflow/core/common_runtime/gpu/gpu_device.cc:1510] Created device /job:localhost/replica:0/task:0/device:GPU:0 with 15403 MB memory:  -> device: 0, name: Tesla P100-PCIE-16GB, pci bus id: 0000:00:04.0, compute capability: 6.0\n"
     ]
    }
   ],
   "source": [
    "build_model().summary()"
   ]
  },
  {
   "cell_type": "code",
   "execution_count": 17,
   "id": "6397dfc8",
   "metadata": {
    "execution": {
     "iopub.execute_input": "2021-12-06T16:16:40.585543Z",
     "iopub.status.busy": "2021-12-06T16:16:40.580595Z",
     "iopub.status.idle": "2021-12-06T16:16:41.453460Z",
     "shell.execute_reply": "2021-12-06T16:16:41.453891Z"
    },
    "papermill": {
     "duration": 0.902373,
     "end_time": "2021-12-06T16:16:41.454037",
     "exception": false,
     "start_time": "2021-12-06T16:16:40.551664",
     "status": "completed"
    },
    "tags": []
   },
   "outputs": [
    {
     "data": {
      "image/png": "[encoded data removed]",
      "text/plain": [
       "<IPython.core.display.Image object>"
      ]
     },
     "execution_count": 17,
     "metadata": {},
     "output_type": "execute_result"
    }
   ],
   "source": [
    "from tensorflow.keras.utils import plot_model\n",
    "\n",
    "\n",
    "plot_model(\n",
    "    build_model(),\n",
    "    show_shapes=True,\n",
    "    show_layer_names=True\n",
    ")"
   ]
  },
  {
   "cell_type": "code",
   "execution_count": 18,
   "id": "06d8a260",
   "metadata": {
    "execution": {
     "iopub.execute_input": "2021-12-06T16:16:41.514131Z",
     "iopub.status.busy": "2021-12-06T16:16:41.513430Z",
     "iopub.status.idle": "2021-12-06T19:57:07.132959Z",
     "shell.execute_reply": "2021-12-06T19:57:07.133410Z"
    },
    "papermill": {
     "duration": 13225.654199,
     "end_time": "2021-12-06T19:57:07.133567",
     "exception": false,
     "start_time": "2021-12-06T16:16:41.479368",
     "status": "completed"
    },
    "tags": []
   },
   "outputs": [
    {
     "name": "stderr",
     "output_type": "stream",
     "text": [
      "2021-12-06 16:16:43.675565: W tensorflow/core/framework/cpu_allocator_impl.cc:80] Allocation of 851199776 exceeds 10% of free system memory.\n",
      "2021-12-06 16:16:44.559266: W tensorflow/core/framework/cpu_allocator_impl.cc:80] Allocation of 851199776 exceeds 10% of free system memory.\n",
      "2021-12-06 16:16:45.191698: I tensorflow/compiler/mlir/mlir_graph_optimization_pass.cc:185] None of the MLIR Optimization Passes are enabled (registered 2)\n"
     ]
    },
    {
     "name": "stdout",
     "output_type": "stream",
     "text": [
      "Fold 0 Accuracy: 0.962255\n"
     ]
    },
    {
     "name": "stderr",
     "output_type": "stream",
     "text": [
      "2021-12-06 16:24:57.675309: W tensorflow/core/framework/cpu_allocator_impl.cc:80] Allocation of 851199776 exceeds 10% of free system memory.\n",
      "2021-12-06 16:24:58.620698: W tensorflow/core/framework/cpu_allocator_impl.cc:80] Allocation of 851199776 exceeds 10% of free system memory.\n"
     ]
    },
    {
     "name": "stdout",
     "output_type": "stream",
     "text": [
      "Fold 1 Accuracy: 0.962875\n"
     ]
    },
    {
     "name": "stderr",
     "output_type": "stream",
     "text": [
      "2021-12-06 16:36:11.404025: W tensorflow/core/framework/cpu_allocator_impl.cc:80] Allocation of 851199776 exceeds 10% of free system memory.\n"
     ]
    },
    {
     "name": "stdout",
     "output_type": "stream",
     "text": [
      "Fold 2 Accuracy: 0.962365\n",
      "Fold 3 Accuracy: 0.96222\n",
      "Fold 4 Accuracy: 0.96227\n",
      "Fold 5 Accuracy: 0.96298\n",
      "Fold 6 Accuracy: 0.962855\n",
      "Fold 7 Accuracy: 0.96271\n",
      "Fold 8 Accuracy: 0.962065\n",
      "Fold 9 Accuracy: 0.96262\n",
      "Fold 10 Accuracy: 0.96181\n",
      "Fold 11 Accuracy: 0.962565\n",
      "Fold 12 Accuracy: 0.9623\n",
      "Fold 13 Accuracy: 0.96277\n",
      "Fold 14 Accuracy: 0.962305\n",
      "Fold 15 Accuracy: 0.96228\n",
      "Fold 16 Accuracy: 0.962265\n",
      "Fold 17 Accuracy: 0.962305\n",
      "Fold 18 Accuracy: 0.96148\n",
      "Fold 19 Accuracy: 0.96239981199906\n",
      "\n",
      "Mean Accuracy: 0.962384740599953\n"
     ]
    }
   ],
   "source": [
    "from sklearn.model_selection import StratifiedKFold\n",
    "from sklearn.metrics import accuracy_score\n",
    "\n",
    "\n",
    "X = train_df.drop(\"Cover_Type\", axis=1).values\n",
    "y = train_df[\"Cover_Type\"].values\n",
    "\n",
    "del train_df\n",
    "\n",
    "FOLDS = 20\n",
    "EPOCHS = 200\n",
    "BATCH_SIZE = 2048\n",
    "\n",
    "test_preds = np.zeros((1, 1))\n",
    "scores = []\n",
    "\n",
    "cv = StratifiedKFold(n_splits=FOLDS, shuffle=True, random_state=42)\n",
    "\n",
    "for fold, (train_idx, val_idx) in enumerate(cv.split(X, y)):\n",
    "    X_train, X_val = X[train_idx], X[val_idx]\n",
    "    y_train, y_val = y[train_idx], y[val_idx]\n",
    "\n",
    "    model = build_model()\n",
    "    model.fit(\n",
    "        X_train,\n",
    "        y_train,\n",
    "        validation_data=(X_val, y_val),\n",
    "        epochs=EPOCHS,\n",
    "        batch_size=BATCH_SIZE,\n",
    "        callbacks=callbacks,\n",
    "        verbose=False\n",
    "    )\n",
    "\n",
    "    y_pred = np.argmax(model.predict(X_val), axis=1)\n",
    "    score = accuracy_score(y_val, y_pred)\n",
    "    scores.append(score)\n",
    "\n",
    "    test_preds = test_preds + model.predict(test_df)\n",
    "    print(f\"Fold {fold} Accuracy: {score}\")\n",
    "\n",
    "print()\n",
    "print(f\"Mean Accuracy: {np.mean(scores)}\")"
   ]
  },
  {
   "cell_type": "markdown",
   "id": "0b041426",
   "metadata": {
    "papermill": {
     "duration": 0.031213,
     "end_time": "2021-12-06T19:57:07.195936",
     "exception": false,
     "start_time": "2021-12-06T19:57:07.164723",
     "status": "completed"
    },
    "tags": []
   },
   "source": [
    "Using soft voting strategy to ensemble test predictions"
   ]
  },
  {
   "cell_type": "code",
   "execution_count": 19,
   "id": "31c52e3f",
   "metadata": {
    "execution": {
     "iopub.execute_input": "2021-12-06T19:57:07.263644Z",
     "iopub.status.busy": "2021-12-06T19:57:07.262872Z",
     "iopub.status.idle": "2021-12-06T19:57:07.310394Z",
     "shell.execute_reply": "2021-12-06T19:57:07.310854Z"
    },
    "papermill": {
     "duration": 0.083505,
     "end_time": "2021-12-06T19:57:07.311017",
     "exception": false,
     "start_time": "2021-12-06T19:57:07.227512",
     "status": "completed"
    },
    "tags": []
   },
   "outputs": [
    {
     "data": {
      "text/html": [
       "<div>\n",
       "<style scoped>\n",
       "    .dataframe tbody tr th:only-of-type {\n",
       "        vertical-align: middle;\n",
       "    }\n",
       "\n",
       "    .dataframe tbody tr th {\n",
       "        vertical-align: top;\n",
       "    }\n",
       "\n",
       "    .dataframe thead th {\n",
       "        text-align: right;\n",
       "    }\n",
       "</style>\n",
       "<table border=\"1\" class=\"dataframe\">\n",
       "  <thead>\n",
       "    <tr style=\"text-align: right;\">\n",
       "      <th></th>\n",
       "      <th>Id</th>\n",
       "      <th>Cover_Type</th>\n",
       "    </tr>\n",
       "  </thead>\n",
       "  <tbody>\n",
       "    <tr>\n",
       "      <th>0</th>\n",
       "      <td>4000000</td>\n",
       "      <td>2</td>\n",
       "    </tr>\n",
       "    <tr>\n",
       "      <th>1</th>\n",
       "      <td>4000001</td>\n",
       "      <td>2</td>\n",
       "    </tr>\n",
       "    <tr>\n",
       "      <th>2</th>\n",
       "      <td>4000002</td>\n",
       "      <td>2</td>\n",
       "    </tr>\n",
       "    <tr>\n",
       "      <th>3</th>\n",
       "      <td>4000003</td>\n",
       "      <td>2</td>\n",
       "    </tr>\n",
       "    <tr>\n",
       "      <th>4</th>\n",
       "      <td>4000004</td>\n",
       "      <td>2</td>\n",
       "    </tr>\n",
       "  </tbody>\n",
       "</table>\n",
       "</div>"
      ],
      "text/plain": [
       "        Id  Cover_Type\n",
       "0  4000000           2\n",
       "1  4000001           2\n",
       "2  4000002           2\n",
       "3  4000003           2\n",
       "4  4000004           2"
      ]
     },
     "execution_count": 19,
     "metadata": {},
     "output_type": "execute_result"
    }
   ],
   "source": [
    "test_preds = np.argmax(test_preds, axis=1)\n",
    "test_preds = encoder.inverse_transform(test_preds)\n",
    "\n",
    "sub_df['Cover_Type'] = test_preds\n",
    "sub_df.head()"
   ]
  },
  {
   "cell_type": "code",
   "execution_count": 20,
   "id": "5143c900",
   "metadata": {
    "execution": {
     "iopub.execute_input": "2021-12-06T19:57:07.378265Z",
     "iopub.status.busy": "2021-12-06T19:57:07.377542Z",
     "iopub.status.idle": "2021-12-06T19:57:08.961982Z",
     "shell.execute_reply": "2021-12-06T19:57:08.961335Z"
    },
    "papermill": {
     "duration": 1.619613,
     "end_time": "2021-12-06T19:57:08.962168",
     "exception": false,
     "start_time": "2021-12-06T19:57:07.342555",
     "status": "completed"
    },
    "tags": []
   },
   "outputs": [],
   "source": [
    "sub_df.to_csv(\"submission.csv\", index=False)"
   ]
  }
 ],
 "metadata": {
  "kernelspec": {
   "display_name": "Python 3",
   "language": "python",
   "name": "python3"
  },
  "language_info": {
   "codemirror_mode": {
    "name": "ipython",
    "version": 3
   },
   "file_extension": ".py",
   "mimetype": "text/x-python",
   "name": "python",
   "nbconvert_exporter": "python",
   "pygments_lexer": "ipython3",
   "version": "3.7.12"
  },
  "papermill": {
   "default_parameters": {},
   "duration": 13302.640968,
   "end_time": "2021-12-06T19:57:12.306545",
   "environment_variables": {},
   "exception": null,
   "input_path": "__notebook__.ipynb",
   "output_path": "__notebook__.ipynb",
   "parameters": {},
   "start_time": "2021-12-06T16:15:29.665577",
   "version": "2.3.3"
  }
 },
 "nbformat": 4,
 "nbformat_minor": 5
}
